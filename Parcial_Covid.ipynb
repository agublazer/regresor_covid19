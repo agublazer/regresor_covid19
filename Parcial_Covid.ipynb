{
 "cells": [
  {
   "cell_type": "markdown",
   "metadata": {},
   "source": [
    "# Frame the problem and look at the big picture\n",
    "\n",
    "* Claramente podemos ver que es un problema de regresión lineal univariada o multivariada.\n",
    "* La variable a predecir serían dos: casos positivos y muertes.\n",
    "* Como conjunto para $X$ estaría compuesto principalmente por las fechas.\n",
    "* Otro punto a tener en cuenta en los datos, es que son datos de forma creciente, casos confirmados, muertes y las fechas son valores cada vez mayores.\n"
   ]
  },
  {
   "cell_type": "markdown",
   "metadata": {},
   "source": [
    "# Obtener los datos"
   ]
  },
  {
   "cell_type": "markdown",
   "metadata": {},
   "source": [
    "### librerias y carga de archivos"
   ]
  },
  {
   "cell_type": "code",
   "execution_count": 2,
   "metadata": {
    "scrolled": true
   },
   "outputs": [],
   "source": [
    "import pandas as pd \n",
    "import numpy as np\n",
    "import matplotlib.pyplot as plt\n",
    "from datetime import datetime\n",
    "from pylab import *\n",
    "\n",
    "def leer_datos_numpy(text):\n",
    "    file_1 = pd.read_csv(text, sep=',',header = 0)\n",
    "    matrix = np.array(file_1)\n",
    "    return matrix\n",
    "\n",
    "def leer_datos_panda(text):\n",
    "    file_1 = pd.read_csv(text, sep=',',header = 0)\n",
    "    return file_1\n"
   ]
  },
  {
   "cell_type": "code",
   "execution_count": 3,
   "metadata": {
    "scrolled": false
   },
   "outputs": [
    {
     "data": {
      "text/html": [
       "<div>\n",
       "<style scoped>\n",
       "    .dataframe tbody tr th:only-of-type {\n",
       "        vertical-align: middle;\n",
       "    }\n",
       "\n",
       "    .dataframe tbody tr th {\n",
       "        vertical-align: top;\n",
       "    }\n",
       "\n",
       "    .dataframe thead th {\n",
       "        text-align: right;\n",
       "    }\n",
       "</style>\n",
       "<table border=\"1\" class=\"dataframe\">\n",
       "  <thead>\n",
       "    <tr style=\"text-align: right;\">\n",
       "      <th></th>\n",
       "      <th>country</th>\n",
       "      <th>iso3c</th>\n",
       "      <th>region</th>\n",
       "      <th>date</th>\n",
       "      <th>confirmed</th>\n",
       "      <th>deaths</th>\n",
       "      <th>recovered</th>\n",
       "      <th>negative_cases</th>\n",
       "      <th>pcr_positivo</th>\n",
       "      <th>prueba_rapida_positivo</th>\n",
       "      <th>pcr_prapida_positivo</th>\n",
       "    </tr>\n",
       "  </thead>\n",
       "  <tbody>\n",
       "    <tr>\n",
       "      <th>0</th>\n",
       "      <td>Peru</td>\n",
       "      <td>PER</td>\n",
       "      <td>NaN</td>\n",
       "      <td>2020-03-06</td>\n",
       "      <td>1</td>\n",
       "      <td>NaN</td>\n",
       "      <td>NaN</td>\n",
       "      <td>154.0</td>\n",
       "      <td>NaN</td>\n",
       "      <td>NaN</td>\n",
       "      <td>NaN</td>\n",
       "    </tr>\n",
       "    <tr>\n",
       "      <th>1</th>\n",
       "      <td>Peru</td>\n",
       "      <td>PER</td>\n",
       "      <td>NaN</td>\n",
       "      <td>2020-03-07</td>\n",
       "      <td>6</td>\n",
       "      <td>NaN</td>\n",
       "      <td>NaN</td>\n",
       "      <td>213.0</td>\n",
       "      <td>NaN</td>\n",
       "      <td>NaN</td>\n",
       "      <td>NaN</td>\n",
       "    </tr>\n",
       "    <tr>\n",
       "      <th>2</th>\n",
       "      <td>Peru</td>\n",
       "      <td>PER</td>\n",
       "      <td>NaN</td>\n",
       "      <td>2020-03-09</td>\n",
       "      <td>9</td>\n",
       "      <td>NaN</td>\n",
       "      <td>NaN</td>\n",
       "      <td>309.0</td>\n",
       "      <td>NaN</td>\n",
       "      <td>NaN</td>\n",
       "      <td>NaN</td>\n",
       "    </tr>\n",
       "    <tr>\n",
       "      <th>3</th>\n",
       "      <td>Peru</td>\n",
       "      <td>PER</td>\n",
       "      <td>NaN</td>\n",
       "      <td>2020-03-10</td>\n",
       "      <td>11</td>\n",
       "      <td>NaN</td>\n",
       "      <td>NaN</td>\n",
       "      <td>335.0</td>\n",
       "      <td>NaN</td>\n",
       "      <td>NaN</td>\n",
       "      <td>NaN</td>\n",
       "    </tr>\n",
       "    <tr>\n",
       "      <th>4</th>\n",
       "      <td>Peru</td>\n",
       "      <td>PER</td>\n",
       "      <td>NaN</td>\n",
       "      <td>2020-03-11</td>\n",
       "      <td>17</td>\n",
       "      <td>NaN</td>\n",
       "      <td>NaN</td>\n",
       "      <td>697.0</td>\n",
       "      <td>NaN</td>\n",
       "      <td>NaN</td>\n",
       "      <td>NaN</td>\n",
       "    </tr>\n",
       "  </tbody>\n",
       "</table>\n",
       "</div>"
      ],
      "text/plain": [
       "  country iso3c region        date  confirmed  deaths  recovered  \\\n",
       "0    Peru   PER    NaN  2020-03-06          1     NaN        NaN   \n",
       "1    Peru   PER    NaN  2020-03-07          6     NaN        NaN   \n",
       "2    Peru   PER    NaN  2020-03-09          9     NaN        NaN   \n",
       "3    Peru   PER    NaN  2020-03-10         11     NaN        NaN   \n",
       "4    Peru   PER    NaN  2020-03-11         17     NaN        NaN   \n",
       "\n",
       "   negative_cases  pcr_positivo  prueba_rapida_positivo  pcr_prapida_positivo  \n",
       "0           154.0           NaN                     NaN                   NaN  \n",
       "1           213.0           NaN                     NaN                   NaN  \n",
       "2           309.0           NaN                     NaN                   NaN  \n",
       "3           335.0           NaN                     NaN                   NaN  \n",
       "4           697.0           NaN                     NaN                   NaN  "
      ]
     },
     "execution_count": 3,
     "metadata": {},
     "output_type": "execute_result"
    }
   ],
   "source": [
    "covid_cases = leer_datos_panda('covid-19-peru-data.csv')\n",
    "covid_cases.head()"
   ]
  },
  {
   "cell_type": "markdown",
   "metadata": {},
   "source": [
    "# Explorar los datos"
   ]
  },
  {
   "cell_type": "code",
   "execution_count": 4,
   "metadata": {},
   "outputs": [
    {
     "name": "stdout",
     "output_type": "stream",
     "text": [
      "<class 'pandas.core.frame.DataFrame'>\n",
      "RangeIndex: 1449 entries, 0 to 1448\n",
      "Data columns (total 11 columns):\n",
      " #   Column                  Non-Null Count  Dtype  \n",
      "---  ------                  --------------  -----  \n",
      " 0   country                 1449 non-null   object \n",
      " 1   iso3c                   1449 non-null   object \n",
      " 2   region                  1378 non-null   object \n",
      " 3   date                    1449 non-null   object \n",
      " 4   confirmed               1449 non-null   int64  \n",
      " 5   deaths                  870 non-null    float64\n",
      " 6   recovered               89 non-null     float64\n",
      " 7   negative_cases          71 non-null     float64\n",
      " 8   pcr_positivo            959 non-null    float64\n",
      " 9   prueba_rapida_positivo  896 non-null    float64\n",
      " 10  pcr_prapida_positivo    24 non-null     float64\n",
      "dtypes: float64(6), int64(1), object(4)\n",
      "memory usage: 124.6+ KB\n"
     ]
    }
   ],
   "source": [
    "covid_cases.info()"
   ]
  },
  {
   "cell_type": "code",
   "execution_count": 5,
   "metadata": {},
   "outputs": [
    {
     "data": {
      "text/plain": [
       "Huánuco          65\n",
       "Cusco            65\n",
       "Lima             65\n",
       "Arequipa         65\n",
       "Ica              65\n",
       "Piura            63\n",
       "Ancash           63\n",
       "Lambayeque       63\n",
       "Callao           63\n",
       "La Libertad      63\n",
       "Loreto           61\n",
       "Madre de Dios    60\n",
       "Junín            58\n",
       "San Martín       55\n",
       "Tumbes           54\n",
       "Cajamarca        53\n",
       "Pasco            51\n",
       "Tacna            49\n",
       "Ayacucho         49\n",
       "Huancavelica     46\n",
       "Apurimac         44\n",
       "Moquegua         42\n",
       "Puno             40\n",
       "Amazonas         39\n",
       "Ucayali          37\n",
       "Name: region, dtype: int64"
      ]
     },
     "execution_count": 5,
     "metadata": {},
     "output_type": "execute_result"
    }
   ],
   "source": [
    "covid_cases[\"region\"].value_counts()"
   ]
  },
  {
   "cell_type": "code",
   "execution_count": 6,
   "metadata": {},
   "outputs": [
    {
     "data": {
      "text/html": [
       "<div>\n",
       "<style scoped>\n",
       "    .dataframe tbody tr th:only-of-type {\n",
       "        vertical-align: middle;\n",
       "    }\n",
       "\n",
       "    .dataframe tbody tr th {\n",
       "        vertical-align: top;\n",
       "    }\n",
       "\n",
       "    .dataframe thead th {\n",
       "        text-align: right;\n",
       "    }\n",
       "</style>\n",
       "<table border=\"1\" class=\"dataframe\">\n",
       "  <thead>\n",
       "    <tr style=\"text-align: right;\">\n",
       "      <th></th>\n",
       "      <th>confirmed</th>\n",
       "      <th>deaths</th>\n",
       "      <th>recovered</th>\n",
       "      <th>negative_cases</th>\n",
       "      <th>pcr_positivo</th>\n",
       "      <th>prueba_rapida_positivo</th>\n",
       "      <th>pcr_prapida_positivo</th>\n",
       "    </tr>\n",
       "  </thead>\n",
       "  <tbody>\n",
       "    <tr>\n",
       "      <th>count</th>\n",
       "      <td>1449.000000</td>\n",
       "      <td>870.000000</td>\n",
       "      <td>89.000000</td>\n",
       "      <td>71.000000</td>\n",
       "      <td>959.000000</td>\n",
       "      <td>896.000000</td>\n",
       "      <td>24.000000</td>\n",
       "    </tr>\n",
       "    <tr>\n",
       "      <th>mean</th>\n",
       "      <td>1966.208420</td>\n",
       "      <td>88.916092</td>\n",
       "      <td>5092.348315</td>\n",
       "      <td>141043.380282</td>\n",
       "      <td>1082.083420</td>\n",
       "      <td>1845.859375</td>\n",
       "      <td>34.583333</td>\n",
       "    </tr>\n",
       "    <tr>\n",
       "      <th>std</th>\n",
       "      <td>8419.205345</td>\n",
       "      <td>272.864975</td>\n",
       "      <td>7717.581725</td>\n",
       "      <td>167464.166958</td>\n",
       "      <td>3581.934751</td>\n",
       "      <td>6845.547152</td>\n",
       "      <td>72.926358</td>\n",
       "    </tr>\n",
       "    <tr>\n",
       "      <th>min</th>\n",
       "      <td>1.000000</td>\n",
       "      <td>1.000000</td>\n",
       "      <td>1.000000</td>\n",
       "      <td>154.000000</td>\n",
       "      <td>1.000000</td>\n",
       "      <td>1.000000</td>\n",
       "      <td>1.000000</td>\n",
       "    </tr>\n",
       "    <tr>\n",
       "      <th>25%</th>\n",
       "      <td>15.000000</td>\n",
       "      <td>2.000000</td>\n",
       "      <td>5.000000</td>\n",
       "      <td>7078.500000</td>\n",
       "      <td>15.000000</td>\n",
       "      <td>49.750000</td>\n",
       "      <td>1.750000</td>\n",
       "    </tr>\n",
       "    <tr>\n",
       "      <th>50%</th>\n",
       "      <td>109.000000</td>\n",
       "      <td>6.000000</td>\n",
       "      <td>537.000000</td>\n",
       "      <td>58864.000000</td>\n",
       "      <td>74.000000</td>\n",
       "      <td>153.500000</td>\n",
       "      <td>3.000000</td>\n",
       "    </tr>\n",
       "    <tr>\n",
       "      <th>75%</th>\n",
       "      <td>453.000000</td>\n",
       "      <td>47.000000</td>\n",
       "      <td>7496.000000</td>\n",
       "      <td>249376.500000</td>\n",
       "      <td>257.000000</td>\n",
       "      <td>510.250000</td>\n",
       "      <td>6.250000</td>\n",
       "    </tr>\n",
       "    <tr>\n",
       "      <th>max</th>\n",
       "      <td>88541.000000</td>\n",
       "      <td>2523.000000</td>\n",
       "      <td>28272.000000</td>\n",
       "      <td>541941.000000</td>\n",
       "      <td>26234.000000</td>\n",
       "      <td>62307.000000</td>\n",
       "      <td>231.000000</td>\n",
       "    </tr>\n",
       "  </tbody>\n",
       "</table>\n",
       "</div>"
      ],
      "text/plain": [
       "          confirmed       deaths     recovered  negative_cases  pcr_positivo  \\\n",
       "count   1449.000000   870.000000     89.000000       71.000000    959.000000   \n",
       "mean    1966.208420    88.916092   5092.348315   141043.380282   1082.083420   \n",
       "std     8419.205345   272.864975   7717.581725   167464.166958   3581.934751   \n",
       "min        1.000000     1.000000      1.000000      154.000000      1.000000   \n",
       "25%       15.000000     2.000000      5.000000     7078.500000     15.000000   \n",
       "50%      109.000000     6.000000    537.000000    58864.000000     74.000000   \n",
       "75%      453.000000    47.000000   7496.000000   249376.500000    257.000000   \n",
       "max    88541.000000  2523.000000  28272.000000   541941.000000  26234.000000   \n",
       "\n",
       "       prueba_rapida_positivo  pcr_prapida_positivo  \n",
       "count              896.000000             24.000000  \n",
       "mean              1845.859375             34.583333  \n",
       "std               6845.547152             72.926358  \n",
       "min                  1.000000              1.000000  \n",
       "25%                 49.750000              1.750000  \n",
       "50%                153.500000              3.000000  \n",
       "75%                510.250000              6.250000  \n",
       "max              62307.000000            231.000000  "
      ]
     },
     "execution_count": 6,
     "metadata": {},
     "output_type": "execute_result"
    }
   ],
   "source": [
    "covid_cases.describe()"
   ]
  },
  {
   "cell_type": "code",
   "execution_count": 7,
   "metadata": {},
   "outputs": [
    {
     "data": {
      "image/png": "[encoded data removed]",
      "text/plain": [
       "<Figure size 1440x1080 with 9 Axes>"
      ]
     },
     "metadata": {
      "needs_background": "light"
     },
     "output_type": "display_data"
    }
   ],
   "source": [
    "%matplotlib inline\n",
    "import matplotlib.pyplot as plt\n",
    "covid_cases.hist(bins=50, figsize=(20,15))\n",
    "#save_fig(\"attribute_histogram_plots\")\n",
    "plt.show()"
   ]
  },
  {
   "cell_type": "markdown",
   "metadata": {},
   "source": [
    "* Vamos a trabajar basicamente con tres columnas: fechas, casos confirmados y muertes.\n",
    "* Podemos intuir una relación entre los casos confirmados y muertes, para sacar los conjuntos de entrenamiento y prueba. "
   ]
  },
  {
   "cell_type": "markdown",
   "metadata": {},
   "source": [
    "# Preparar los datos"
   ]
  },
  {
   "cell_type": "markdown",
   "metadata": {},
   "source": [
    "### Normalización"
   ]
  },
  {
   "cell_type": "code",
   "execution_count": 8,
   "metadata": {},
   "outputs": [],
   "source": [
    "def normalizar_datos(matrix):\n",
    "    promedio = np.sum(matrix, axis = 0)/matrix.shape[0]\n",
    "    minimos = matrix.min(axis = 0)\n",
    "    maximos = matrix.max(axis = 0)\n",
    "    matrix = (matrix - promedio)/(maximos - minimos)\n",
    "    return matrix\n",
    "\n",
    "def desnormalizar_datos(matrix, maximo, minimo, promedio):\n",
    "    return matrix *(maximo-minimo) +promedio\n"
   ]
  },
  {
   "cell_type": "markdown",
   "metadata": {},
   "source": [
    "### Conjuntos entrenamiento prueba"
   ]
  },
  {
   "cell_type": "code",
   "execution_count": 9,
   "metadata": {},
   "outputs": [],
   "source": [
    "def crear_entrenamiento_prueba(matrix):\n",
    "    sep = int(matrix.shape[0]*0.8)\n",
    "    entrenamiento = matrix[:sep]\n",
    "    prueba = matrix[sep:]\n",
    "    return entrenamiento, prueba"
   ]
  },
  {
   "cell_type": "markdown",
   "metadata": {},
   "source": [
    "### Creación de subconjuntos"
   ]
  },
  {
   "cell_type": "code",
   "execution_count": 10,
   "metadata": {},
   "outputs": [],
   "source": [
    "def crear_subconjuntos(entrenamiento):\n",
    "    sep = entrenamiento.shape[1]-1\n",
    "    x_array = entrenamiento[:, 0:sep]\n",
    "    y_array = entrenamiento[:, sep:]\n",
    "    x_array  = np.concatenate((np.ones((len(x_array), 1)), x_array), axis=1)\n",
    "    return x_array, y_array\n"
   ]
  },
  {
   "cell_type": "markdown",
   "metadata": {},
   "source": [
    "### Llenado de nan"
   ]
  },
  {
   "cell_type": "code",
   "execution_count": 11,
   "metadata": {},
   "outputs": [],
   "source": [
    "def llenado(matrix, col):\n",
    "    r_matrix = matrix\n",
    "    for i in range(r_matrix.shape[0]):\n",
    "        if(pd.isnull(r_matrix[i][col])):\n",
    "            r_matrix[i][col] = 0\n",
    "    return r_matrix"
   ]
  },
  {
   "cell_type": "markdown",
   "metadata": {},
   "source": [
    "### Fecha a Entero"
   ]
  },
  {
   "cell_type": "code",
   "execution_count": 12,
   "metadata": {},
   "outputs": [],
   "source": [
    "def fecha_entero(matrix, col):\n",
    "    r_matrix = matrix\n",
    "    for i in range(r_matrix.shape[0]):\n",
    "        dt = np.datetime64(r_matrix[i][col])\n",
    "        dt64 = np.datetime64(dt)\n",
    "        ts = (dt64 - np.datetime64('1970-01-01T00:00:00Z')) / np.timedelta64(1, 's')\n",
    "        r_matrix[i][col] = ts\n",
    "    return r_matrix"
   ]
  },
  {
   "cell_type": "markdown",
   "metadata": {},
   "source": [
    "### Funciones"
   ]
  },
  {
   "cell_type": "code",
   "execution_count": 13,
   "metadata": {},
   "outputs": [],
   "source": [
    "def filtrado(matrix, text):\n",
    "    matrix_r = matrix\n",
    "    if(text == ''):\n",
    "        ind = pd.isnull(matrix_r[:,0:1])\n",
    "    else:\n",
    "        ind = matrix_r[:,0:1] == text\n",
    "    return matrix_r[ind[:,0],:]\n"
   ]
  },
  {
   "cell_type": "markdown",
   "metadata": {},
   "source": [
    "### transformation"
   ]
  },
  {
   "cell_type": "code",
   "execution_count": 14,
   "metadata": {},
   "outputs": [
    {
     "name": "stderr",
     "output_type": "stream",
     "text": [
      "C:\\Users\\nibar\\anaconda3\\lib\\site-packages\\ipykernel_launcher.py:6: DeprecationWarning: parsing timezone aware datetimes is deprecated; this will raise an error in the future\n",
      "  \n"
     ]
    }
   ],
   "source": [
    "# lectura\n",
    "matrix = leer_datos_numpy('covid-19-peru-data.csv')\n",
    "#filas hasta el 1 de mayo\n",
    "matrix_1 = matrix[0:1059,:]\n",
    "# columnas que me interesan\n",
    "matrix_muerte = np.array(matrix_1[:,2:6])\n",
    "matrix_confirmado = np.array(matrix_1[:,2:5])\n",
    "\n",
    "# reemplazo los nan por 0\n",
    "matrix_muerte = llenado(matrix_muerte,3)\n",
    "\n",
    "#print(matrix[:,3:4])\n",
    "# for i in range(matrix.shape[0]):\n",
    "#     if(matrix[i:i+1,3:4] == '2020-05-02'):\n",
    "#         print(i)\n",
    "\n",
    "        \n",
    "#convierto fecha a entero\n",
    "matrix_muerte = fecha_entero(matrix_muerte,1)\n",
    "\n",
    "matrix_confirmado = fecha_entero(matrix_confirmado,1)\n",
    "\n",
    "# filtro  a peru y a la region arequipa\n",
    "peru_muerte = filtrado(matrix_muerte,'')\n",
    "peru_confirmado = filtrado(matrix_confirmado,'')\n",
    "\n",
    "arequipa_muerte = filtrado(matrix_muerte,'Arequipa')\n",
    "arequipa_confirmado = filtrado(matrix_confirmado,'Arequipa')\n",
    "\n",
    "#elimino la columna region\n",
    "peru_muerte = peru_muerte[:,1:]\n",
    "peru_confirmado = peru_confirmado[:,1:]\n",
    "arequipa_muerte = arequipa_muerte[:,1:]\n",
    "arequipa_confirmado =  arequipa_confirmado[:,1:]\n",
    "\n",
    "# print(peru_muerte)\n",
    "# print(peru_confirmado)\n",
    "# print(arequipa_muerte)\n",
    "# print(arequipa_confirmado) \n",
    "\n",
    "#guardo los valores para la desnormalizacion\n",
    "promedio_peru_muerte = np.sum(peru_muerte, axis = 0)/peru_muerte.shape[0]\n",
    "minimo_peru_muerte = peru_muerte.min(axis = 0)\n",
    "maximo_peru_muerte = peru_muerte.max(axis = 0) \n",
    "\n",
    "promedio_peru_confirmado = np.sum(peru_confirmado, axis = 0)/peru_confirmado.shape[0]\n",
    "minimo_peru_confirmado = peru_confirmado.min(axis = 0)\n",
    "maximo_peru_confirmado = peru_confirmado.max(axis = 0)\n",
    "\n",
    "promedio_arequipa_muerte = np.sum(arequipa_muerte, axis = 0)/arequipa_muerte.shape[0]\n",
    "minimo_arequipa_muerte = arequipa_muerte.min(axis = 0)\n",
    "maximo_arequipa_muerte = arequipa_muerte.max(axis = 0) \n",
    "\n",
    "promedio_arequipa_confirmado = np.sum(arequipa_confirmado, axis = 0)/arequipa_confirmado.shape[0]\n",
    "minimo_arequipa_confirmado = arequipa_confirmado.min(axis = 0)\n",
    "maximo_arequipa_confirmado = arequipa_confirmado.max(axis = 0) \n",
    "\n",
    "\n",
    "for i in range(peru_confirmado.shape[0]):\n",
    "     peru_confirmado[i][0] = i\n",
    "\n",
    "peru_muerte_normalizada = normalizar_datos(peru_muerte)\n",
    "peru_confirmado_normalizada = normalizar_datos(peru_confirmado)\n",
    "arequipa_muerte_normalizada = normalizar_datos(arequipa_muerte)\n",
    "arequipa_confirmado_normalizada = normalizar_datos(arequipa_confirmado)\n",
    "\n",
    "\n",
    "\n",
    "#print(peru)\n",
    "# peru = desnormalizar_datos(peru,maximos,minimos,promedio)\n",
    "#print(peru)"
   ]
  },
  {
   "cell_type": "code",
   "execution_count": 15,
   "metadata": {},
   "outputs": [],
   "source": [
    "def hipotesis(theta_array, x_array):\n",
    "    return np.dot(x_array, theta_array)\n",
    "\n",
    "def nuevo_theta_0(theta_0, alpha, h_array, y_array):\n",
    "    return theta_0 - ( ( alpha /  h_array.shape[0] ) * np.sum( h_array - y_array ) )\n",
    "\n",
    "def nuevo_theta_1(theta_1, alpha, h_array, y_array, x_array):\n",
    "    return theta_1 - ( ( alpha /  h_array.shape[0] ) * np.sum( (h_array - y_array) * x_array ))\n",
    "\n",
    "\n",
    "def calc_nuevos_thetas(theta_array, alpha, h_array, y_array, x_array):\n",
    "    theta_array[0,0] = theta_array[0,0] - ( ( alpha /  h_array.shape[0] ) * np.sum( h_array - y_array ) )\n",
    "    for i in range (1, theta_array.shape[0]):\n",
    "        theta_array[i,0] = theta_array[i,0] - ( ( alpha /  h_array.shape[0] ) * np.sum( ( h_array - y_array )* x_array[:,i:i+1] ) )\n",
    "    return theta_array\n",
    "\n",
    "def calcular_costo(h_array, y_array):\n",
    "    return (1 / (2*h_array.shape[0])) * np.sum( (h_array - y_array) ** 2 )\n",
    "\n",
    "def RMSE(x_array, theta_array,y_array_real):\n",
    "    y_array_prediccion = np.zeros((y_array_real.shape[1],1))\n",
    "    #for i in range (y_array_real.shape[1]):\n",
    "    y_array_prediccion = np.dot(x_array,theta_array)\n",
    "    return np.sqrt(( 1 /  y_array_prediccion.shape[0] ) * np.sum( (y_array_prediccion - y_array_real) ** 2 ))\n",
    "\n",
    "\n",
    "\n",
    "def calcular_accuracy(x_array, y_array, theta_array):\n",
    "    y_array = y_array > 0\n",
    "    sigmoidal_array = sigmoidal(theta_array, x_array) >= 0.5\n",
    "    #print(sigmoidal_array)\n",
    "    accuracy_array = (sigmoidal_array == y_array)    \n",
    "    return ((np.sum(accuracy_array)*100) / accuracy_array.shape[0] )\n",
    "\n",
    "\n"
   ]
  },
  {
   "cell_type": "markdown",
   "metadata": {},
   "source": [
    "# Gradiente Descendente"
   ]
  },
  {
   "cell_type": "code",
   "execution_count": 16,
   "metadata": {},
   "outputs": [],
   "source": [
    "def gradiente_descendiente(x_array, y_array, theta_array, num_iteracion, tasa_aprendizaje):\n",
    "    \n",
    "    inicio_costos = np.zeros(num_iteracion)\n",
    "    for i in range(num_iteracion):\n",
    "        h_array = hipotesis(theta_array, x_array)\n",
    "        theta_array = calc_nuevos_thetas(theta_array, tasa_aprendizaje, h_array, y_array,x_array)\n",
    "        inicio_costos[i] = calcular_costo(h_array, y_array)\n",
    "    return theta_array, inicio_costos"
   ]
  },
  {
   "cell_type": "markdown",
   "metadata": {},
   "source": [
    "# Short List Promissing Models"
   ]
  },
  {
   "cell_type": "code",
   "execution_count": 20,
   "metadata": {
    "scrolled": false
   },
   "outputs": [
    {
     "name": "stdout",
     "output_type": "stream",
     "text": [
      "casos peru confirmados\n"
     ]
    },
    {
     "data": {
      "image/png": "[encoded data removed]",
      "text/plain": [
       "<Figure size 432x288 with 1 Axes>"
      ]
     },
     "metadata": {
      "needs_background": "light"
     },
     "output_type": "display_data"
    },
    {
     "data": {
      "image/png": "[encoded data removed]",
      "text/plain": [
       "<Figure size 432x288 with 1 Axes>"
      ]
     },
     "metadata": {
      "needs_background": "light"
     },
     "output_type": "display_data"
    },
    {
     "name": "stdout",
     "output_type": "stream",
     "text": [
      "Coeficientes [[-0.12067196]\n",
      " [ 0.62437427]\n",
      " [ 0.95462196]\n",
      " [-0.10822929]]\n",
      "RMSE 0.20573822009303136\n",
      "casos Arequipa confirmados\n"
     ]
    },
    {
     "data": {
      "image/png": "[encoded data removed]",
      "text/plain": [
       "<Figure size 432x288 with 1 Axes>"
      ]
     },
     "metadata": {
      "needs_background": "light"
     },
     "output_type": "display_data"
    },
    {
     "data": {
      "image/png": "[encoded data removed]",
      "text/plain": [
       "<Figure size 432x288 with 1 Axes>"
      ]
     },
     "metadata": {
      "needs_background": "light"
     },
     "output_type": "display_data"
    },
    {
     "name": "stdout",
     "output_type": "stream",
     "text": [
      "Coeficientes [[-0.11406259]\n",
      " [ 0.53390273]\n",
      " [ 0.70353807]\n",
      " [-0.04008523]]\n",
      "RMSE 0.2933588291479925\n",
      "casos Peru muertes\n"
     ]
    },
    {
     "data": {
      "image/png": "[encoded data removed]",
      "text/plain": [
       "<Figure size 432x288 with 1 Axes>"
      ]
     },
     "metadata": {
      "needs_background": "light"
     },
     "output_type": "display_data"
    },
    {
     "data": {
      "image/png": "[encoded data removed]",
      "text/plain": [
       "<Figure size 432x288 with 1 Axes>"
      ]
     },
     "metadata": {
      "needs_background": "light"
     },
     "output_type": "display_data"
    },
    {
     "name": "stdout",
     "output_type": "stream",
     "text": [
      "Coeficientes [[-0.02879991]\n",
      " [ 0.07168581]\n",
      " [ 0.71436574]]\n",
      "RMSE 0.14448641295771886\n",
      "casos Arequipa muertes\n"
     ]
    },
    {
     "data": {
      "image/png": "[encoded data removed]",
      "text/plain": [
       "<Figure size 432x288 with 1 Axes>"
      ]
     },
     "metadata": {
      "needs_background": "light"
     },
     "output_type": "display_data"
    },
    {
     "data": {
      "image/png": "[encoded data removed]",
      "text/plain": [
       "<Figure size 432x288 with 1 Axes>"
      ]
     },
     "metadata": {
      "needs_background": "light"
     },
     "output_type": "display_data"
    },
    {
     "name": "stdout",
     "output_type": "stream",
     "text": [
      "Coeficientes [[0.03481753]\n",
      " [0.31508458]\n",
      " [1.23847369]]\n",
      "RMSE 0.24471607879171098\n"
     ]
    }
   ],
   "source": [
    "\n",
    "def dibujar(matrix,ite,tasa,c_d,titulo):\n",
    "    # algoritmos\n",
    "    entrenamiento, prueba = crear_entrenamiento_prueba(matrix)\n",
    "\n",
    "    x_array, y_array = crear_subconjuntos(entrenamiento)\n",
    "    x_array_prueba, y_array_prueba = crear_subconjuntos(prueba)\n",
    "    \n",
    "\n",
    "   \n",
    "    \n",
    "    if(c_d):\n",
    "        plt.ylabel(\"casos confirmados\")\n",
    "        temp_x = np.array(x_array)\n",
    "        temp_x = np.concatenate((temp_x,x_array[:,1:2]**2),axis=1)\n",
    "        temp_x = np.concatenate((temp_x,x_array[:,1:2]**3),axis=1)\n",
    "        \n",
    "        x_array_prueba = np.concatenate((x_array_prueba,x_array_prueba[:,1:2]**2),axis=1)\n",
    "        x_array_prueba = np.concatenate((x_array_prueba,x_array_prueba[:,1:2]**3),axis=1)\n",
    "\n",
    "        theta_array = np.zeros((temp_x.shape[1],1))\n",
    "        theta_array, costos = gradiente_descendiente(temp_x, y_array, theta_array, ite, tasa) \n",
    "        \n",
    "\n",
    "        \n",
    "        x_1 = np.arange(-0.7, 1.5,0.01)\n",
    "        y_1 = theta_array[0,0] + theta_array[1,0] * (x_1) + theta_array[2,0] * (x_1**2) + theta_array[3,0] * (x_1**3) \n",
    "        plot(x_array[:,1:2],y_array,'ro')\n",
    "        plot(x_1,y_1,'y', label='gradiente')\n",
    "         \n",
    "    else:\n",
    "        plt.ylabel(\"muertes\")\n",
    "        temp_x = np.array(x_array)\n",
    "\n",
    "        theta_array = np.zeros((temp_x.shape[1],1))\n",
    "        theta_array, costos = gradiente_descendiente(temp_x, y_array, theta_array, ite, tasa) \n",
    "            \n",
    "        x_1 = np.arange(-0.7, 1.5,0.01)\n",
    "        \n",
    "\n",
    "        y_1 = theta_array[0,0] + theta_array[1,0] * (x_1) + theta_array[2,0] * (x_1)\n",
    "        plot(x_array[:,2:3],y_array,'ro')\n",
    "\n",
    "        plot(x_1,y_1,'y', label='gradiente')\n",
    "    \n",
    "    plt.xlabel(\"Dias\")  \n",
    "\n",
    "    plt.title(titulo)\n",
    "    \n",
    "    \n",
    "    show()\n",
    "    \n",
    "    plt.ylabel(\"Costo\")\n",
    "    plt.xlabel(\"iteraciones\")  \n",
    "    plot(costos,'r')\n",
    "    show()\n",
    "        \n",
    "    print(\"Coeficientes\",theta_array)\n",
    "    print(\"RMSE\",RMSE(x_array_prueba, theta_array, y_array_prueba))\n",
    "    return theta_array, costos\n",
    "\n",
    "\n",
    "\n",
    "print(\"casos peru confirmados\")\n",
    "theta_peru_confirmado, costo_peru_confirmado = dibujar(peru_confirmado_normalizada,2000,0.4,1,\"Casos confirmados Peru\")\n",
    "print(\"casos Arequipa confirmados\")\n",
    "theta_arequipa_confirmado, costo_arequipa_confirmado = dibujar(arequipa_confirmado_normalizada,2000,0.4,1, \"Casos confirmados Arequipa\")\n",
    "print(\"casos Peru muertes\")\n",
    "theta_peru_muerte, costo_peru_muerte = dibujar(peru_muerte_normalizada,2000,0.4,0, \"muertes Peru\")\n",
    "print(\"casos Arequipa muertes\")\n",
    "theta_arequipa_muerte, costo_peru_muerte = dibujar(arequipa_muerte_normalizada,2000,0.4,0, \"muertes Arequipa\")\n",
    "\n",
    "\n",
    "\n",
    "\n"
   ]
  },
  {
   "cell_type": "markdown",
   "metadata": {},
   "source": [
    "### Predicción"
   ]
  },
  {
   "cell_type": "code",
   "execution_count": 21,
   "metadata": {},
   "outputs": [
    {
     "name": "stdout",
     "output_type": "stream",
     "text": [
      "[[datetime.date(2020, 5, 16) 9237.560183217765]\n",
      " [datetime.date(2020, 5, 17) 9289.350623880897]\n",
      " [datetime.date(2020, 5, 18) 9341.141064544026]\n",
      " [datetime.date(2020, 5, 19) 9392.931505207156]\n",
      " [datetime.date(2020, 5, 20) 9444.721945870288]\n",
      " [datetime.date(2020, 5, 21) 9496.512386533417]\n",
      " [datetime.date(2020, 5, 22) 9548.302827196549]\n",
      " [datetime.date(2020, 5, 23) 9600.093267859678]\n",
      " [datetime.date(2020, 5, 24) 9651.883708522808]\n",
      " [datetime.date(2020, 5, 25) 9703.67414918594]\n",
      " [datetime.date(2020, 5, 26) 9755.464589849069]\n",
      " [datetime.date(2020, 5, 27) 9807.255030512199]\n",
      " [datetime.date(2020, 5, 28) 9859.04547117533]\n",
      " [datetime.date(2020, 5, 29) 9910.83591183846]\n",
      " [datetime.date(2020, 5, 30) 9962.62635250159]\n",
      " [datetime.date(2020, 5, 31) 10014.41679316472]\n",
      " [datetime.date(2020, 6, 1) 10066.20723382785]\n",
      " [datetime.date(2020, 6, 2) 10117.99767449098]\n",
      " [datetime.date(2020, 6, 3) 10169.788115154111]\n",
      " [datetime.date(2020, 6, 4) 10221.578555817241]\n",
      " [datetime.date(2020, 6, 5) 10273.36899648037]\n",
      " [datetime.date(2020, 6, 6) 10325.159437143502]\n",
      " [datetime.date(2020, 6, 7) 10376.949877806632]\n",
      " [datetime.date(2020, 6, 8) 10428.740318469761]\n",
      " [datetime.date(2020, 6, 9) 10480.530759132893]\n",
      " [datetime.date(2020, 6, 10) 10532.321199796022]\n",
      " [datetime.date(2020, 6, 11) 10584.111640459152]\n",
      " [datetime.date(2020, 6, 12) 10635.902081122284]\n",
      " [datetime.date(2020, 6, 13) 10687.692521785415]]\n"
     ]
    },
    {
     "name": "stderr",
     "output_type": "stream",
     "text": [
      "C:\\Users\\nibar\\anaconda3\\lib\\site-packages\\ipykernel_launcher.py:27: DeprecationWarning: parsing timezone aware datetimes is deprecated; this will raise an error in the future\n"
     ]
    }
   ],
   "source": [
    "def predecir(predict_array,theta_array,c_d,maximo,minimo,promedio):\n",
    "    # algoritmos\n",
    "\n",
    "    if(c_d):\n",
    "        temp_x = np.array(predict_array)\n",
    "        temp_x = np.concatenate((temp_x,predict_array[:,0:1]**2),axis=1)\n",
    "        temp_x = np.concatenate((temp_x,predict_array[:,0:1]**3),axis=1)\n",
    "        \n",
    "        temp_x  = np.concatenate((np.ones((len(temp_x), 1)), temp_x), axis=1)\n",
    "        y_1 = hipotesis(theta_array, temp_x)\n",
    "    else:\n",
    "        temp_x = np.array(predict_array)\n",
    "        temp_x = np.concatenate((np.ones((len(temp_x), 1)), temp_x), axis=1)\n",
    "        temp_x = np.concatenate((temp_x, np.zeros((len(temp_x), 1))), axis=1)\n",
    "        y_1 = hipotesis(theta_array, temp_x)\n",
    "    \n",
    "    y_1 = y_1 *(maximo[1:2]-minimo[1:2]) + promedio[1:2]\n",
    "\n",
    "    return y_1\n",
    "\n",
    "\n",
    "dates =  np.arange(np.datetime64('2020-05-16'), np.datetime64('2020-06-14')).reshape(29,1)\n",
    "x_predict = np.zeros((dates.shape[0],1))\n",
    "for i in range(dates.shape[0]):\n",
    "    dt = np.datetime64(dates[i][0])\n",
    "    dt64 = np.datetime64(dt)\n",
    "    ts = (dt64 - np.datetime64('1970-01-01T00:00:00Z')) / np.timedelta64(1, 's')\n",
    "    x_predict[i][0] = ts\n",
    "\n",
    "    \n",
    "x_predict_1 = (x_predict - promedio_peru_confirmado[0:1])/(maximo_peru_confirmado[0:1] - minimo_peru_confirmado[0:1])\n",
    "x_predict_2 = (x_predict - promedio_peru_muerte[0:1])/(maximo_peru_muerte[0:1] - minimo_peru_muerte[0:1])\n",
    "x_predict_3 = (x_predict - promedio_arequipa_confirmado[0:1])/(maximo_arequipa_confirmado[0:1] - minimo_arequipa_confirmado[0:1])\n",
    "x_predict_4 = (x_predict - promedio_arequipa_muerte[0:1])/(maximo_arequipa_muerte[0:1] - minimo_arequipa_muerte[0:1])\n",
    "\n",
    "\n",
    "#prediccion\n",
    "# print(\"DATOS PREDECIDOS\")\n",
    "# y_predict_1 = predecir(x_predict_1, theta_peru_confirmado,1,maximo_peru_confirmado,minimo_peru_confirmado,promedio_peru_confirmado)\n",
    "# y_predict_1 = np.concatenate((dates,y_predict_1),axis=1)\n",
    "# print(y_predict_1)\n",
    "\n",
    "y_predict_2 = predecir(x_predict_2, theta_peru_muerte,0,maximo_peru_muerte,minimo_peru_muerte,promedio_peru_muerte)\n",
    "y_predict_2 = np.concatenate((dates,y_predict_2),axis=1)\n",
    "print(y_predict_2)\n",
    "\n",
    "\n",
    "# y_predict_3 = predecir(x_predict_3, theta_arequipa_confirmado,1,maximo_arequipa_confirmado,minimo_arequipa_confirmado,promedio_arequipa_confirmado)\n",
    "# y_predict_3 = np.concatenate((dates,y_predict_3),axis=1)\n",
    "# print(y_predict_3)\n",
    "\n",
    "# y_predict_4 = predecir(x_predict_4, theta_arequipa_muerte,0,maximo_arequipa_muerte,minimo_arequipa_muerte,promedio_arequipa_muerte)\n",
    "# y_predict_4 = np.concatenate((dates,y_predict_4),axis=1)\n",
    "# print(y_predict_4)"
   ]
  },
  {
   "cell_type": "markdown",
   "metadata": {},
   "source": [
    "## Fine-Tune the System"
   ]
  },
  {
   "cell_type": "code",
   "execution_count": 459,
   "metadata": {
    "scrolled": true
   },
   "outputs": [
    {
     "name": "stdout",
     "output_type": "stream",
     "text": [
      "Coefficients: \n",
      " [[0.         0.53695593 1.92458484 2.17856734]]\n",
      "Independent term: \n",
      " [-0.15061234]\n",
      "Mean squared error: 0.00\n",
      "Variance score: 0.99\n"
     ]
    },
    {
     "data": {
      "image/png": "[encoded data removed]",
      "text/plain": [
       "<Figure size 1152x648 with 1 Axes>"
      ]
     },
     "metadata": {},
     "output_type": "display_data"
    }
   ],
   "source": [
    "import numpy as np\n",
    "import pandas as pd\n",
    "import seaborn as sb\n",
    "import matplotlib.pyplot as plt\n",
    "%matplotlib inline\n",
    "from mpl_toolkits.mplot3d import Axes3D\n",
    "from matplotlib import cm\n",
    "plt.rcParams['figure.figsize'] = (16, 9)\n",
    "plt.style.use('ggplot')\n",
    "from sklearn import linear_model\n",
    "from sklearn.metrics import mean_squared_error, r2_score\n",
    "\n",
    "from sklearn.preprocessing import PolynomialFeatures \n",
    "\n",
    "\n",
    "\n",
    "# Asignamos nuestra variable de entrada X para entrenamiento y las etiquetas Y.\n",
    "dataX = covid_cases[[\"date\"]]\n",
    "X_train = np.array(dataX)\n",
    "y_train = covid_cases['confirmed'].values\n",
    "\n",
    "\n",
    "\n",
    "entrenamiento, prueba = crear_entrenamiento_prueba(peru_confirmado_normalizada)\n",
    "\n",
    "x_array, y_array = crear_subconjuntos(entrenamiento)\n",
    "x_array_p, y_array_p = crear_subconjuntos(prueba)\n",
    "\n",
    "x_array = x_array[:,1:]\n",
    "\n",
    "pf = PolynomialFeatures(degree = 3)    # usaremos polinomios de grado 3\n",
    "x_array_ = pf.fit_transform(x_array.reshape(-1,1)) \n",
    "\n",
    "\n",
    "\n",
    "x_array_p = pf.fit_transform(x_array_p.reshape(-1,1)) \n",
    "\n",
    "\n",
    "\n",
    "# Creamos el objeto de Regresión Linear\n",
    "regr = linear_model.LinearRegression()\n",
    "\n",
    "# Entrenamos nuestro modelo\n",
    "regr.fit(x_array_, y_array)\n",
    " \n",
    "# Hacemos las predicciones que en definitiva una línea (en este caso, al ser 2D)\n",
    "y_pred = regr.predict(x_array_)\n",
    "\n",
    "c = regr.coef_\n",
    "# Veamos los coeficienetes obtenidos, En nuestro caso, serán la Tangente\n",
    "print('Coefficients: \\n', regr.coef_)\n",
    "# Este es el valor donde corta el eje Y (en X=0)\n",
    "print('Independent term: \\n', regr.intercept_)\n",
    "# Error Cuadrado Medio\n",
    "print(\"Mean squared error: %.2f\" % mean_squared_error(y_array, y_pred))\n",
    "# Puntaje de Varianza. El mejor puntaje es un 1.0\n",
    "print('Variance score: %.2f' % r2_score(y_array, y_pred))\n",
    "\n",
    "x_2 = np.arange(-0.7, 0.5,0.01)\n",
    "y_1 = regr.intercept_  + (c[0,1]) * (x_2) + c[0,2] * (x_1**2) + (c[0,3]) * (x_2**3)\n",
    "\n",
    "plot(x_array,y_array,'ro')\n",
    "#plot(x_array[:,2:3],y_array,'go')\n",
    "\n",
    "#plot(x, y,'b',label='normal')\n",
    "plot(x_1,y_1,'y', label='gradiente')\n",
    "\n",
    "show()\n"
   ]
  },
  {
   "cell_type": "code",
   "execution_count": null,
   "metadata": {},
   "outputs": [],
   "source": []
  }
 ],
 "metadata": {
  "kernelspec": {
   "display_name": "Python 3",
   "language": "python",
   "name": "python3"
  },
  "language_info": {
   "codemirror_mode": {
    "name": "ipython",
    "version": 3
   },
   "file_extension": ".py",
   "mimetype": "text/x-python",
   "name": "python",
   "nbconvert_exporter": "python",
   "pygments_lexer": "ipython3",
   "version": "3.7.6"
  }
 },
 "nbformat": 4,
 "nbformat_minor": 4
}
